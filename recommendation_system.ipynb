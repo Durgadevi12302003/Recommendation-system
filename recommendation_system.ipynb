{
  "nbformat": 4,
  "nbformat_minor": 0,
  "metadata": {
    "colab": {
      "provenance": []
    },
    "kernelspec": {
      "name": "python3",
      "display_name": "Python 3"
    },
    "language_info": {
      "name": "python"
    }
  },
  "cells": [
    {
      "cell_type": "code",
      "execution_count": 35,
      "metadata": {
        "id": "-TZjUlUj1QpD"
      },
      "outputs": [],
      "source": [
        "import numpy as np\n",
        "import pandas as pd\n",
        "import difflib\n",
        "from sklearn.feature_extraction.text import TfidfVectorizer\n",
        "from sklearn.metrics.pairwise import cosine_similarity"
      ]
    },
    {
      "cell_type": "markdown",
      "source": [
        "Data collection and preprocessing"
      ],
      "metadata": {
        "id": "2fZfVJAW2Exk"
      }
    },
    {
      "cell_type": "code",
      "source": [
        "movies_data = pd.read_csv('/content/Moviedataset.csv')"
      ],
      "metadata": {
        "id": "fdYoT8xZ2A0X"
      },
      "execution_count": 63,
      "outputs": []
    },
    {
      "cell_type": "code",
      "source": [
        "movies_data.head()"
      ],
      "metadata": {
        "colab": {
          "base_uri": "https://localhost:8080/",
          "height": 285
        },
        "id": "dzKcciNK2RDD",
        "outputId": "fac62039-4944-40ba-b4bc-2cae7993b42d"
      },
      "execution_count": 37,
      "outputs": [
        {
          "output_type": "execute_result",
          "data": {
            "text/plain": [
              "   Index         MovieName   Genre  Rating              Director  \\\n",
              "0      0        Mouna Guru  Action     7.7          Santha Kumar   \n",
              "1      1       7 Aum Arivu  Action     6.2       A.R. Murugadoss   \n",
              "2      2  Vaagai Sooda Vaa  Comedy     8.0           A. Sarkunam   \n",
              "3      3          Mankatha  Action     7.6         Venkat Prabhu   \n",
              "4      4  Kanchana: Muni 2  Comedy     6.5  Lawrence Raghavendra   \n",
              "\n",
              "                  Actor  PeopleVote  Year  Hero_Rating  movie_rating  \\\n",
              "0             Arulnithi         746  2011            8             8   \n",
              "1                Suriya        9479  2011            9             9   \n",
              "2                 Vimal       14522  2011            8             7   \n",
              "3           Ajith Kumar       12276  2011            6             8   \n",
              "4  Lawrence Raghavendra        1044  2011            8             9   \n",
              "\n",
              "   content_rating  \n",
              "0        7.900000  \n",
              "1        8.066667  \n",
              "2        7.666667  \n",
              "3        7.200000  \n",
              "4        7.833333  "
            ],
            "text/html": [
              "\n",
              "\n",
              "  <div id=\"df-b8fcfef8-77a8-4e2f-a93a-86e78cd082ed\">\n",
              "    <div class=\"colab-df-container\">\n",
              "      <div>\n",
              "<style scoped>\n",
              "    .dataframe tbody tr th:only-of-type {\n",
              "        vertical-align: middle;\n",
              "    }\n",
              "\n",
              "    .dataframe tbody tr th {\n",
              "        vertical-align: top;\n",
              "    }\n",
              "\n",
              "    .dataframe thead th {\n",
              "        text-align: right;\n",
              "    }\n",
              "</style>\n",
              "<table border=\"1\" class=\"dataframe\">\n",
              "  <thead>\n",
              "    <tr style=\"text-align: right;\">\n",
              "      <th></th>\n",
              "      <th>Index</th>\n",
              "      <th>MovieName</th>\n",
              "      <th>Genre</th>\n",
              "      <th>Rating</th>\n",
              "      <th>Director</th>\n",
              "      <th>Actor</th>\n",
              "      <th>PeopleVote</th>\n",
              "      <th>Year</th>\n",
              "      <th>Hero_Rating</th>\n",
              "      <th>movie_rating</th>\n",
              "      <th>content_rating</th>\n",
              "    </tr>\n",
              "  </thead>\n",
              "  <tbody>\n",
              "    <tr>\n",
              "      <th>0</th>\n",
              "      <td>0</td>\n",
              "      <td>Mouna Guru</td>\n",
              "      <td>Action</td>\n",
              "      <td>7.7</td>\n",
              "      <td>Santha Kumar</td>\n",
              "      <td>Arulnithi</td>\n",
              "      <td>746</td>\n",
              "      <td>2011</td>\n",
              "      <td>8</td>\n",
              "      <td>8</td>\n",
              "      <td>7.900000</td>\n",
              "    </tr>\n",
              "    <tr>\n",
              "      <th>1</th>\n",
              "      <td>1</td>\n",
              "      <td>7 Aum Arivu</td>\n",
              "      <td>Action</td>\n",
              "      <td>6.2</td>\n",
              "      <td>A.R. Murugadoss</td>\n",
              "      <td>Suriya</td>\n",
              "      <td>9479</td>\n",
              "      <td>2011</td>\n",
              "      <td>9</td>\n",
              "      <td>9</td>\n",
              "      <td>8.066667</td>\n",
              "    </tr>\n",
              "    <tr>\n",
              "      <th>2</th>\n",
              "      <td>2</td>\n",
              "      <td>Vaagai Sooda Vaa</td>\n",
              "      <td>Comedy</td>\n",
              "      <td>8.0</td>\n",
              "      <td>A. Sarkunam</td>\n",
              "      <td>Vimal</td>\n",
              "      <td>14522</td>\n",
              "      <td>2011</td>\n",
              "      <td>8</td>\n",
              "      <td>7</td>\n",
              "      <td>7.666667</td>\n",
              "    </tr>\n",
              "    <tr>\n",
              "      <th>3</th>\n",
              "      <td>3</td>\n",
              "      <td>Mankatha</td>\n",
              "      <td>Action</td>\n",
              "      <td>7.6</td>\n",
              "      <td>Venkat Prabhu</td>\n",
              "      <td>Ajith Kumar</td>\n",
              "      <td>12276</td>\n",
              "      <td>2011</td>\n",
              "      <td>6</td>\n",
              "      <td>8</td>\n",
              "      <td>7.200000</td>\n",
              "    </tr>\n",
              "    <tr>\n",
              "      <th>4</th>\n",
              "      <td>4</td>\n",
              "      <td>Kanchana: Muni 2</td>\n",
              "      <td>Comedy</td>\n",
              "      <td>6.5</td>\n",
              "      <td>Lawrence Raghavendra</td>\n",
              "      <td>Lawrence Raghavendra</td>\n",
              "      <td>1044</td>\n",
              "      <td>2011</td>\n",
              "      <td>8</td>\n",
              "      <td>9</td>\n",
              "      <td>7.833333</td>\n",
              "    </tr>\n",
              "  </tbody>\n",
              "</table>\n",
              "</div>\n",
              "      <button class=\"colab-df-convert\" onclick=\"convertToInteractive('df-b8fcfef8-77a8-4e2f-a93a-86e78cd082ed')\"\n",
              "              title=\"Convert this dataframe to an interactive table.\"\n",
              "              style=\"display:none;\">\n",
              "\n",
              "  <svg xmlns=\"http://www.w3.org/2000/svg\" height=\"24px\"viewBox=\"0 0 24 24\"\n",
              "       width=\"24px\">\n",
              "    <path d=\"M0 0h24v24H0V0z\" fill=\"none\"/>\n",
              "    <path d=\"M18.56 5.44l.94 2.06.94-2.06 2.06-.94-2.06-.94-.94-2.06-.94 2.06-2.06.94zm-11 1L8.5 8.5l.94-2.06 2.06-.94-2.06-.94L8.5 2.5l-.94 2.06-2.06.94zm10 10l.94 2.06.94-2.06 2.06-.94-2.06-.94-.94-2.06-.94 2.06-2.06.94z\"/><path d=\"M17.41 7.96l-1.37-1.37c-.4-.4-.92-.59-1.43-.59-.52 0-1.04.2-1.43.59L10.3 9.45l-7.72 7.72c-.78.78-.78 2.05 0 2.83L4 21.41c.39.39.9.59 1.41.59.51 0 1.02-.2 1.41-.59l7.78-7.78 2.81-2.81c.8-.78.8-2.07 0-2.86zM5.41 20L4 18.59l7.72-7.72 1.47 1.35L5.41 20z\"/>\n",
              "  </svg>\n",
              "      </button>\n",
              "\n",
              "\n",
              "\n",
              "    <div id=\"df-48442bff-0cb0-4169-ade9-9673d32ab8b3\">\n",
              "      <button class=\"colab-df-quickchart\" onclick=\"quickchart('df-48442bff-0cb0-4169-ade9-9673d32ab8b3')\"\n",
              "              title=\"Suggest charts.\"\n",
              "              style=\"display:none;\">\n",
              "\n",
              "<svg xmlns=\"http://www.w3.org/2000/svg\" height=\"24px\"viewBox=\"0 0 24 24\"\n",
              "     width=\"24px\">\n",
              "    <g>\n",
              "        <path d=\"M19 3H5c-1.1 0-2 .9-2 2v14c0 1.1.9 2 2 2h14c1.1 0 2-.9 2-2V5c0-1.1-.9-2-2-2zM9 17H7v-7h2v7zm4 0h-2V7h2v10zm4 0h-2v-4h2v4z\"/>\n",
              "    </g>\n",
              "</svg>\n",
              "      </button>\n",
              "    </div>\n",
              "\n",
              "<style>\n",
              "  .colab-df-quickchart {\n",
              "    background-color: #E8F0FE;\n",
              "    border: none;\n",
              "    border-radius: 50%;\n",
              "    cursor: pointer;\n",
              "    display: none;\n",
              "    fill: #1967D2;\n",
              "    height: 32px;\n",
              "    padding: 0 0 0 0;\n",
              "    width: 32px;\n",
              "  }\n",
              "\n",
              "  .colab-df-quickchart:hover {\n",
              "    background-color: #E2EBFA;\n",
              "    box-shadow: 0px 1px 2px rgba(60, 64, 67, 0.3), 0px 1px 3px 1px rgba(60, 64, 67, 0.15);\n",
              "    fill: #174EA6;\n",
              "  }\n",
              "\n",
              "  [theme=dark] .colab-df-quickchart {\n",
              "    background-color: #3B4455;\n",
              "    fill: #D2E3FC;\n",
              "  }\n",
              "\n",
              "  [theme=dark] .colab-df-quickchart:hover {\n",
              "    background-color: #434B5C;\n",
              "    box-shadow: 0px 1px 3px 1px rgba(0, 0, 0, 0.15);\n",
              "    filter: drop-shadow(0px 1px 2px rgba(0, 0, 0, 0.3));\n",
              "    fill: #FFFFFF;\n",
              "  }\n",
              "</style>\n",
              "\n",
              "    <script>\n",
              "      async function quickchart(key) {\n",
              "        const containerElement = document.querySelector('#' + key);\n",
              "        const charts = await google.colab.kernel.invokeFunction(\n",
              "            'suggestCharts', [key], {});\n",
              "      }\n",
              "    </script>\n",
              "\n",
              "      <script>\n",
              "\n",
              "function displayQuickchartButton(domScope) {\n",
              "  let quickchartButtonEl =\n",
              "    domScope.querySelector('#df-48442bff-0cb0-4169-ade9-9673d32ab8b3 button.colab-df-quickchart');\n",
              "  quickchartButtonEl.style.display =\n",
              "    google.colab.kernel.accessAllowed ? 'block' : 'none';\n",
              "}\n",
              "\n",
              "        displayQuickchartButton(document);\n",
              "      </script>\n",
              "      <style>\n",
              "    .colab-df-container {\n",
              "      display:flex;\n",
              "      flex-wrap:wrap;\n",
              "      gap: 12px;\n",
              "    }\n",
              "\n",
              "    .colab-df-convert {\n",
              "      background-color: #E8F0FE;\n",
              "      border: none;\n",
              "      border-radius: 50%;\n",
              "      cursor: pointer;\n",
              "      display: none;\n",
              "      fill: #1967D2;\n",
              "      height: 32px;\n",
              "      padding: 0 0 0 0;\n",
              "      width: 32px;\n",
              "    }\n",
              "\n",
              "    .colab-df-convert:hover {\n",
              "      background-color: #E2EBFA;\n",
              "      box-shadow: 0px 1px 2px rgba(60, 64, 67, 0.3), 0px 1px 3px 1px rgba(60, 64, 67, 0.15);\n",
              "      fill: #174EA6;\n",
              "    }\n",
              "\n",
              "    [theme=dark] .colab-df-convert {\n",
              "      background-color: #3B4455;\n",
              "      fill: #D2E3FC;\n",
              "    }\n",
              "\n",
              "    [theme=dark] .colab-df-convert:hover {\n",
              "      background-color: #434B5C;\n",
              "      box-shadow: 0px 1px 3px 1px rgba(0, 0, 0, 0.15);\n",
              "      filter: drop-shadow(0px 1px 2px rgba(0, 0, 0, 0.3));\n",
              "      fill: #FFFFFF;\n",
              "    }\n",
              "  </style>\n",
              "\n",
              "      <script>\n",
              "        const buttonEl =\n",
              "          document.querySelector('#df-b8fcfef8-77a8-4e2f-a93a-86e78cd082ed button.colab-df-convert');\n",
              "        buttonEl.style.display =\n",
              "          google.colab.kernel.accessAllowed ? 'block' : 'none';\n",
              "\n",
              "        async function convertToInteractive(key) {\n",
              "          const element = document.querySelector('#df-b8fcfef8-77a8-4e2f-a93a-86e78cd082ed');\n",
              "          const dataTable =\n",
              "            await google.colab.kernel.invokeFunction('convertToInteractive',\n",
              "                                                     [key], {});\n",
              "          if (!dataTable) return;\n",
              "\n",
              "          const docLinkHtml = 'Like what you see? Visit the ' +\n",
              "            '<a target=\"_blank\" href=https://colab.research.google.com/notebooks/data_table.ipynb>data table notebook</a>'\n",
              "            + ' to learn more about interactive tables.';\n",
              "          element.innerHTML = '';\n",
              "          dataTable['output_type'] = 'display_data';\n",
              "          await google.colab.output.renderOutput(dataTable, element);\n",
              "          const docLink = document.createElement('div');\n",
              "          docLink.innerHTML = docLinkHtml;\n",
              "          element.appendChild(docLink);\n",
              "        }\n",
              "      </script>\n",
              "    </div>\n",
              "  </div>\n"
            ]
          },
          "metadata": {},
          "execution_count": 37
        }
      ]
    },
    {
      "cell_type": "code",
      "source": [
        "# number of rows and columns in the data frame\n",
        "\n",
        "movies_data.shape"
      ],
      "metadata": {
        "colab": {
          "base_uri": "https://localhost:8080/"
        },
        "id": "kLTkgCc82WD2",
        "outputId": "422fd06b-aa17-46cd-bbcd-9b7a155c6fd0"
      },
      "execution_count": 38,
      "outputs": [
        {
          "output_type": "execute_result",
          "data": {
            "text/plain": [
              "(329, 11)"
            ]
          },
          "metadata": {},
          "execution_count": 38
        }
      ]
    },
    {
      "cell_type": "code",
      "source": [
        "selected_features = ['Genre','Director','Actor']\n",
        "print(selected_features)"
      ],
      "metadata": {
        "colab": {
          "base_uri": "https://localhost:8080/"
        },
        "id": "GTrDO2702oCQ",
        "outputId": "72c14406-fe29-47b7-f018-a7bc2e6e67ee"
      },
      "execution_count": 39,
      "outputs": [
        {
          "output_type": "stream",
          "name": "stdout",
          "text": [
            "['Genre', 'Director', 'Actor']\n"
          ]
        }
      ]
    },
    {
      "cell_type": "code",
      "source": [
        "!pip install pandas"
      ],
      "metadata": {
        "colab": {
          "base_uri": "https://localhost:8080/"
        },
        "id": "miJj2-u-37Hw",
        "outputId": "a9ed795f-0d0a-4481-e317-555f7e98ac56"
      },
      "execution_count": 40,
      "outputs": [
        {
          "output_type": "stream",
          "name": "stdout",
          "text": [
            "Requirement already satisfied: pandas in /usr/local/lib/python3.10/dist-packages (1.5.3)\n",
            "Requirement already satisfied: python-dateutil>=2.8.1 in /usr/local/lib/python3.10/dist-packages (from pandas) (2.8.2)\n",
            "Requirement already satisfied: pytz>=2020.1 in /usr/local/lib/python3.10/dist-packages (from pandas) (2022.7.1)\n",
            "Requirement already satisfied: numpy>=1.21.0 in /usr/local/lib/python3.10/dist-packages (from pandas) (1.22.4)\n",
            "Requirement already satisfied: six>=1.5 in /usr/local/lib/python3.10/dist-packages (from python-dateutil>=2.8.1->pandas) (1.16.0)\n"
          ]
        }
      ]
    },
    {
      "cell_type": "code",
      "source": [
        "# replacing the null valuess with null string\n",
        "\n",
        "for feature in selected_features:\n",
        "  movies_data[feature] = movies_data[feature].fillna('')"
      ],
      "metadata": {
        "id": "8CxOmXma3dus"
      },
      "execution_count": 41,
      "outputs": []
    },
    {
      "cell_type": "code",
      "source": [
        "# combining all the 5 selected features\n",
        "\n",
        "combined_features = movies_data['Genre']+' '+movies_data['Director']+' '+movies_data['Actor']\n",
        "print(combined_features)"
      ],
      "metadata": {
        "colab": {
          "base_uri": "https://localhost:8080/"
        },
        "id": "3jYH0nb44igx",
        "outputId": "e461ed3e-4b53-4a65-a7f2-cc8e1d923ce0"
      },
      "execution_count": 42,
      "outputs": [
        {
          "output_type": "stream",
          "name": "stdout",
          "text": [
            "0                         Action Santha Kumar Arulnithi\n",
            "1                         Action A.R. Murugadoss Suriya\n",
            "2                              Comedy A. Sarkunam Vimal\n",
            "3                      Action Venkat Prabhu Ajith Kumar\n",
            "4      Comedy Lawrence Raghavendra Lawrence Raghavendra\n",
            "                             ...                       \n",
            "324                            Comedy Rambala Santhanam\n",
            "325                    Action Rajath Ravishankar Karthi\n",
            "326               Comedy Sakthi Chidambaram Prabhu Deva\n",
            "327                 Action Karthik Subbaraj Rajinikanth\n",
            "328                             Action Siva Ajith Kumar\n",
            "Length: 329, dtype: object\n"
          ]
        }
      ]
    },
    {
      "cell_type": "code",
      "source": [
        "# converting the text data to feature vectors\n",
        "\n",
        "vectorizer = TfidfVectorizer()"
      ],
      "metadata": {
        "id": "ba_qYnSY41rn"
      },
      "execution_count": 43,
      "outputs": []
    },
    {
      "cell_type": "code",
      "source": [
        "feature_vectors = vectorizer.fit_transform(combined_features)\n",
        "print(feature_vectors)"
      ],
      "metadata": {
        "colab": {
          "base_uri": "https://localhost:8080/"
        },
        "id": "YubBTFGD5Aw9",
        "outputId": "57ac45d7-ec9d-481b-f9b4-819bae55916e"
      },
      "execution_count": 44,
      "outputs": [
        {
          "output_type": "stream",
          "name": "stdout",
          "text": [
            "  (0, 61)\t0.6048963111981892\n",
            "  (0, 220)\t0.3849430529534935\n",
            "  (0, 391)\t0.6644371767935963\n",
            "  (0, 6)\t0.21081398619688965\n",
            "  (1, 456)\t0.6539368885927855\n",
            "  (1, 257)\t0.7115544879644914\n",
            "  (1, 6)\t0.2570150898199896\n",
            "  (2, 503)\t0.6364819385908981\n",
            "  (2, 400)\t0.6991318256177811\n",
            "  (2, 117)\t0.32573828797966115\n",
            "  (3, 21)\t0.5290015842455659\n",
            "  (3, 306)\t0.4513102575204591\n",
            "  (3, 491)\t0.5816818901687874\n",
            "  (3, 220)\t0.37016989276360135\n",
            "  (3, 6)\t0.2027234679644886\n",
            "  (4, 326)\t0.6967005490826524\n",
            "  (4, 227)\t0.6967005490826524\n",
            "  (4, 117)\t0.1709289028100906\n",
            "  (5, 501)\t0.721658788862413\n",
            "  (5, 499)\t0.5138539510186731\n",
            "  (5, 138)\t0.4638563457366238\n",
            "  (6, 434)\t0.48564523033390394\n",
            "  (6, 178)\t0.547835543719954\n",
            "  (6, 216)\t0.48564523033390394\n",
            "  (6, 322)\t0.44926622909496783\n",
            "  :\t:\n",
            "  (322, 306)\t0.459043045341681\n",
            "  (322, 117)\t0.30279344963354965\n",
            "  (323, 453)\t0.6727785337570709\n",
            "  (323, 434)\t0.70170650656705\n",
            "  (323, 6)\t0.23447179608036497\n",
            "  (324, 350)\t0.6965966844387332\n",
            "  (324, 392)\t0.6503392045494953\n",
            "  (324, 117)\t0.303004914572179\n",
            "  (325, 366)\t0.6102544310383227\n",
            "  (325, 337)\t0.6102544310383227\n",
            "  (325, 205)\t0.47170221497072334\n",
            "  (325, 6)\t0.1807652599032784\n",
            "  (326, 127)\t0.5061584497701991\n",
            "  (326, 379)\t0.5330600086178693\n",
            "  (326, 116)\t0.5061584497701991\n",
            "  (326, 306)\t0.376524096756732\n",
            "  (326, 117)\t0.24836239495201723\n",
            "  (327, 340)\t0.5677296759971184\n",
            "  (327, 448)\t0.585762361851317\n",
            "  (327, 207)\t0.5383306870280425\n",
            "  (327, 6)\t0.21157868946207584\n",
            "  (328, 437)\t0.6675256867195609\n",
            "  (328, 21)\t0.5820442919537046\n",
            "  (328, 220)\t0.40728663117982905\n",
            "  (328, 6)\t0.22305044235749713\n"
          ]
        }
      ]
    },
    {
      "cell_type": "markdown",
      "source": [
        "Cosine similarity"
      ],
      "metadata": {
        "id": "PM43TNij5Mq0"
      }
    },
    {
      "cell_type": "code",
      "source": [
        "# getting the similarity scores using cosine similarity\n",
        "\n",
        "similarity = cosine_similarity(feature_vectors)\n",
        "print(similarity)"
      ],
      "metadata": {
        "colab": {
          "base_uri": "https://localhost:8080/"
        },
        "id": "Zk5mWZJO5IR3",
        "outputId": "b0dae274-2410-48a2-ef5d-8de881160ad3"
      },
      "execution_count": 45,
      "outputs": [
        {
          "output_type": "stream",
          "name": "stdout",
          "text": [
            "[[1.         0.05418238 0.         ... 0.         0.04460375 0.20380431]\n",
            " [0.05418238 1.         0.         ... 0.         0.05437892 0.05732733]\n",
            " [0.         0.         1.         ... 0.08090114 0.         0.        ]\n",
            " ...\n",
            " [0.         0.         0.08090114 ... 1.         0.         0.        ]\n",
            " [0.04460375 0.05437892 0.         ... 0.         1.         0.04719272]\n",
            " [0.20380431 0.05732733 0.         ... 0.         0.04719272 1.        ]]\n"
          ]
        }
      ]
    },
    {
      "cell_type": "code",
      "source": [
        "print(similarity.shape)"
      ],
      "metadata": {
        "colab": {
          "base_uri": "https://localhost:8080/"
        },
        "id": "DcYQG7Ou5bIu",
        "outputId": "d6a38319-8ff1-4302-d91b-d340aa1c5f39"
      },
      "execution_count": 46,
      "outputs": [
        {
          "output_type": "stream",
          "name": "stdout",
          "text": [
            "(329, 329)\n"
          ]
        }
      ]
    },
    {
      "cell_type": "markdown",
      "source": [
        "Getting input from user"
      ],
      "metadata": {
        "id": "6NPNU9Q35tsD"
      }
    },
    {
      "cell_type": "code",
      "source": [
        "# getting the movie name from the user\n",
        "\n",
        "movie_name = input(' Enter your favourite movie name : ')"
      ],
      "metadata": {
        "colab": {
          "base_uri": "https://localhost:8080/"
        },
        "id": "7P7xgheJ5hxe",
        "outputId": "8700dd38-a283-4778-b625-5d00312c75fe"
      },
      "execution_count": 25,
      "outputs": [
        {
          "name": "stdout",
          "output_type": "stream",
          "text": [
            " Enter your favourite movie name : payanam\n"
          ]
        }
      ]
    },
    {
      "cell_type": "code",
      "source": [
        "# creating a list with all the movie names given in the dataset\n",
        "\n",
        "list_of_all_MovieName = movies_data['MovieName'].tolist()\n",
        "print(list_of_all_MovieName)"
      ],
      "metadata": {
        "colab": {
          "base_uri": "https://localhost:8080/"
        },
        "id": "VbrH18Lq538p",
        "outputId": "bff854a7-8316-492f-9afd-4e7b34e074e5"
      },
      "execution_count": 47,
      "outputs": [
        {
          "output_type": "stream",
          "name": "stdout",
          "text": [
            "['Mouna Guru', '7 Aum Arivu', 'Vaagai Sooda Vaa', 'Mankatha', 'Kanchana: Muni 2', 'Deiva Thirumagal', 'Vaanam', 'Ko', 'Payanam', 'Yutham Sei', 'Aadukalam', 'Naduvula Konjam Pakkatha Kaanom', 'Thuppakki', 'Pizza', 'Naan', 'The Fly', 'Kalakalappu', 'Vazhakku Enn 18/9', 'Kumki', 'Neethaane En Ponvasantham', 'Thalaimuraigal', 'Biriyani', 'Ivan Veramaathiri', 'Kalyana Samayal Saadham', 'Irandam Ulagam', 'Pandiya Naadu', 'Arrambam', 'Onaayum Aattukkuttiyum', 'Raja Rani', '6 Candles', 'Moodar Koodam', 'Varuthapadatha Valibar Sangam', 'Thanga Meengal', 'Aadhalal Kadhal Seiveer', 'Maryan', 'Singam 2', 'Theeya Velai Seiyyanum Kumaru', 'Neram', 'Soodhu Kavvum', 'Ethir Neechal', 'Kedi Billa Killadi Ranga', 'Paradesi', 'Kaakkaa Muttai', 'Kayal', 'Pisasu', 'Lingaa', 'Kaaviya Thalaivan', 'Kaththi', 'Jeeva', 'Madras', 'Kathai Thiraikathai Vasanam Iyakkam', 'Jigarthanda', 'Velaiilla Pattadhari', 'Sathuranga Vettai', 'Saivam', 'Mundaasupatti', 'Kochadaiiyaan', 'Vaayai Moodi Pesavum', 'Cuckoo', 'Thegidi', 'Pannaiyarum Padminiyum', 'Goli Soda', 'Veeram', 'Rajini Murugan', 'Visaaranai', 'Pasanga 2', 'Thoongaavanam', 'Naanum Rowdy Thaan', 'Kuttram Kadithal', 'Kirumi', 'Maya', 'Thani Oruvan', 'Papanasam', 'Indru Netru Naalai', 'Demonte Colony', '36 Vayadhinile', 'Uttama Villain', 'Kanchana 2', 'OK Kanmani', 'Rajathandhiram', 'Enakkul Oruvan', 'Press 1 for Tamil', 'Yennai Arindhaal', 'I', 'Dhuruvangal Pathinaaru', 'Chennai 600028 Second Innings', 'Achcham Yenbadhu Madamaiyada', 'Ammani', 'Aandavan Kattalai', 'Kuttrame Thandanai', 'Dharmadurai', 'Joker', 'Kabali', 'Metro', 'Iraivi', 'Uriyadi', '24', 'Theri', 'Oopiri', 'Kadhalum Kadanthu Pogum', 'Pichaikkaran', 'Saala Khadoos', 'Crime 23', 'Muthuramalingam', 'Dream Factory', 'Yaman', 'Ennodu Vilayadu', 'Kadhal Kan Kattudhe', 'Pagadi Aattam', 'Rum', 'Singam 3', 'Bogan', 'Enakku Vaaitha Adimaigal', 'Koditta Idangalai Nirappuga', 'Adhe Kangal', 'Bairavaa', 'Lens', 'Aruvi', 'Ulkuththu', 'Balloon', 'Kalavaadiya Pozhuthugal', 'Velaikkaran', 'Sakka Podu Podu Raja', 'Bhrama.com', 'Chennai 2 Singapore', '12/12/1950', 'Kodiveeran', 'Richie', 'Annadurai', 'Thiruttu Payale 2', 'English Padam', 'Indrajith', 'En Aaloda Seruppa Kaanom', 'Theeran Adhigaram Ondru', 'C/o Surya', 'Ippadai Vellum', 'Aramm', 'The House Next Door', 'Vizhithiru', 'Kadaisi Bench Karthi', 'Mersal', 'Meyaadha Maan', 'Solo', 'Hara Hara Mahadevaki', 'Karuppan', 'Spyder', 'Bayama Irukku', 'Aayirathil Iruvar', 'Kalavu Thozhirchalai', 'Veedevadu', 'Thupparivaalan', 'Kathanayagan', 'Neruppu Da', 'Kurangu Bommai', 'Maayavan', 'Puriyaatha Puthir', 'Vivegam', 'Thappu Thanda', 'Taramani', 'Velaiyilla Pattathari 2', 'Podhuvaga En Manasu Thangam', 'Kootathil Oruthan', 'Nibunan', 'Meesaya murukku', 'Vikram Vedha', 'Rubaai', 'Magalir Mattum', 'Pandigai', 'Thiri', 'Gemini Ganesanum Suruli Rajanum', 'Chennaiyil Oru Naal 2', 'Ivan Thanthiran', 'Adhagappattathu Magajanangalay', 'Yaanum Theeyavan', 'Vanamagan', 'Anbanavan Asaradhavan Adangadhavan', 'Maragatha Nananya', 'Uru', 'Peechaankai', 'Rangoon', 'Sathriyan', 'Bongu', 'Oru Kidayin Karunai Manu', 'Oru Iyakkunarin Kadhal Diary', '7 Naatkal', 'Thondan', 'Brindavanam', 'Inayathalam', 'Sangili Bungili Kadhava Thorae', 'Yeidhavan', 'Saravanan Irukka Bayamaen', 'Enga Amma Rani', 'Baahubali 2: The Conclusion', 'Nagarvalam', 'Sathya', 'Kadamban - Taqatwar', 'Sivalinga - Kanchana Returns', 'Power Paandi', '8 Thottakkal', 'Kaatru Veliyidai', 'Dora', 'Kavan', 'Kadugu', 'Paambhu Sattai', 'Dhayam', 'Vaigai Express', 'Julieum 4 Perum', 'Bruce Lee', 'Kattappava Kanom', 'Oru Mugathirai', 'Maanagaram', 'ACP Shiva', 'Mupparimanam', 'Yaakkai', 'Peranbu', 'Maari 2', 'Adanga Maru', 'Kanaa', 'Seethakaathi', 'Thuppakki Munai', 'Thuppakki Munai', '2', 'Kaatrin Mozhi', 'Sarkar', 'Pandem Kodi 2', 'Vada Chennai', 'Aan Devathai', 'Raatchasan', 'Nota', '96', 'Pariyerum Perumal', 'Chekka Chivantha Vaanam', 'Raja Ranguski', 'Saamy Square', 'U Turn', 'Seema Raja', 'Imaikkaa Nodigal', 'Lakshmi', 'Odu Raja Odu', 'Kolamavu Kokila', 'Pyaar Prema Kaadhal', 'Vishwaroopam 2', 'Ghajinikanth', 'Junga', 'Mohini', 'Chinababu', 'Tamizh Padam 2.0', 'Goli Soda 2', 'Iravukku Aayiram Kangal', 'Irumbu Thirai', 'Mahanati', 'Iruttu Araiyil Murattu Kuthu', 'Kaala', 'Karu', 'Mercury', 'Tik Tik Tik', '6 Athiyayam', 'Naachiyaar', 'Savarakathi', 'Kalakalappu 2', 'Merku Thodarchi Malai', 'Bhaagamathie', 'Nimir', 'Oru Nalla Naal Paathu Solren', 'Thaanaa Serndha Koottam', 'Sketch', 'Enai Noki Paayum Thota', 'Adithya Varma', 'Kaithi', 'Bigil', '100% Kadhal', 'Asuran', 'Kaappaan', 'Magamuni', 'Saaho', 'Sixer', 'Bakrid', 'Kennedy Club', 'Comali', 'Nerkonda Paarvai', 'Jackpot', 'A1', 'Aame', 'Kadaram Kondan', 'Sivappu Manjal Pachai', 'Gurkha', 'Vennila Kabaddi Kuzhu 2', 'Bodhai Yeri Budhi Maari', 'Kalavani 2', 'Raatchasi', 'Jiivi', 'Dharma Prabhu', 'House Owner', 'Sindhubaadh', 'Thumbaa', 'Game Over', 'Kolaigaran', 'NGK', 'Devi 2', 'Neeya 2', 'Ayogya', 'Kee', 'K-13', 'Mr. Local', '100', 'Vellai Pookal', 'Mehandi Circus', 'Kanchana 3', 'Watchman', 'Gangs Of Madras', 'Uriyadi 2', 'Kuppathu Raja', 'Natpe Thunai', 'Super Deluxe', 'Airaa', 'Agni Devi', 'Nedunalvaadai', 'Ispade Rajavum Idhaya Raniyum', 'Sathru', 'Boomerang', 'Thadam', '90 ML', 'LKG', 'Vantha Rajavathaan Varuven', 'Dhilluku Dhuddu 2', 'Dev', 'Charlie Chaplin 2', 'Petta', 'Viswasam']\n"
          ]
        }
      ]
    },
    {
      "cell_type": "code",
      "source": [
        "# finding the close match for the movie name given by the user\n",
        "\n",
        "find_close_match = difflib.get_close_matches(movie_name, list_of_all_MovieName)\n",
        "print(find_close_match)"
      ],
      "metadata": {
        "colab": {
          "base_uri": "https://localhost:8080/"
        },
        "id": "_HWmU_lu6ShH",
        "outputId": "6ec040f1-ef31-4b2f-d003-98c7b3ecafb2"
      },
      "execution_count": 26,
      "outputs": [
        {
          "output_type": "stream",
          "name": "stdout",
          "text": [
            "['Payanam', 'Vaanam', 'Mupparimanam']\n"
          ]
        }
      ]
    },
    {
      "cell_type": "code",
      "source": [
        "close_match = find_close_match[0]\n",
        "print(close_match)"
      ],
      "metadata": {
        "colab": {
          "base_uri": "https://localhost:8080/"
        },
        "id": "jKYGk12A677F",
        "outputId": "e99d7e0b-1b3a-4818-fee1-a21c96b2ea03"
      },
      "execution_count": 27,
      "outputs": [
        {
          "output_type": "stream",
          "name": "stdout",
          "text": [
            "Payanam\n"
          ]
        }
      ]
    },
    {
      "cell_type": "code",
      "source": [
        "# finding the index of the movie with title\n",
        "\n",
        "index_of_the_movie = movies_data[movies_data.MovieName == close_match]['Index'].values[0]\n",
        "print(index_of_the_movie)"
      ],
      "metadata": {
        "colab": {
          "base_uri": "https://localhost:8080/"
        },
        "id": "FCxCm5SePvQk",
        "outputId": "3c78706d-9947-45f5-e3fc-c19e600c9a32"
      },
      "execution_count": 50,
      "outputs": [
        {
          "output_type": "stream",
          "name": "stdout",
          "text": [
            "8\n"
          ]
        }
      ]
    },
    {
      "cell_type": "code",
      "source": [
        "# getting a list of similar movies\n",
        "\n",
        "similarity_score = list(enumerate(similarity[index_of_the_movie]))\n",
        "print(similarity_score)"
      ],
      "metadata": {
        "colab": {
          "base_uri": "https://localhost:8080/"
        },
        "id": "sVbtWHFgQN5e",
        "outputId": "bc692b5c-7e4a-4214-e12b-2961c8853ce7"
      },
      "execution_count": 51,
      "outputs": [
        {
          "output_type": "stream",
          "name": "stdout",
          "text": [
            "[(0, 0.0357811938572575), (1, 0.043622849313710174), (2, 0.0), (3, 0.03440800033010293), (4, 0.0), (5, 0.0), (6, 0.2386528572350959), (7, 0.04237601385523519), (8, 1.0000000000000002), (9, 0.0), (10, 0.042826369602093455), (11, 0.0), (12, 0.040097847653922006), (13, 0.0), (14, 0.0), (15, 0.03591735392406042), (16, 0.0), (17, 0.0), (18, 0.0), (19, 0.0), (20, 0.0), (21, 0.03703910764573882), (22, 0.038834998021477385), (23, 0.0), (24, 0.03935657979358477), (25, 0.04405129013939925), (26, 0.03574971472114137), (27, 0.029137231990160925), (28, 0.0), (29, 0.0), (30, 0.0), (31, 0.0), (32, 0.0), (33, 0.0), (34, 0.0), (35, 0.04187318000704583), (36, 0.0), (37, 0.02568660316465744), (38, 0.0), (39, 0.0), (40, 0.0), (41, 0.0), (42, 0.0), (43, 0.0), (44, 0.0), (45, 0.03985762254745555), (46, 0.0), (47, 0.040097847653922006), (48, 0.0), (49, 0.03346594006504057), (50, 0.0), (51, 0.03554322900410081), (52, 0.039071551892230744), (53, 0.0), (54, 0.0), (55, 0.0), (56, 0.0), (57, 0.18338447472142924), (58, 0.0), (59, 0.0), (60, 0.0), (61, 0.03238589755305575), (62, 0.03785807223666261), (63, 0.04097715967503352), (64, 0.0), (65, 0.0), (66, 0.02883159536105379), (67, 0.03173632426320138), (68, 0.0), (69, 0.0), (70, 0.0), (71, 0.213971051894083), (72, 0.0), (73, 0.0), (74, 0.0), (75, 0.0), (76, 0.0), (77, 0.0), (78, 0.0), (79, 0.028611387879069753), (80, 0.0), (81, 0.0), (82, 0.029072568176216698), (83, 0.04588843172028626), (84, 0.02988092169021694), (85, 0.0), (86, 0.029592543161805995), (87, 0.0), (88, 0.0), (89, 0.0), (90, 0.0), (91, 0.0), (92, 0.03321459859534377), (93, 0.030344036276873567), (94, 0.0), (95, 0.03364334330388471), (96, 0.04205484833613463), (97, 0.03633550376907156), (98, 0.5036968781522615), (99, 0.0), (100, 0.036709744193115255), (101, 0.028611387879069753), (102, 0.029525212954101255), (103, 0.03144201037339199), (104, 0.0), (105, 0.03175014589368045), (106, 0.0), (107, 0.0), (108, 0.0), (109, 0.0), (110, 0.04187318000704583), (111, 0.03223348735073048), (112, 0.0), (113, 0.0), (114, 0.028611387879069753), (115, 0.03647811585775001), (116, 0.0), (117, 0.0), (118, 0.0), (119, 0.0), (120, 0.0), (121, 0.24716623686661962), (122, 0.03479533402471859), (123, 0.03591735392406042), (124, 0.0), (125, 0.0), (126, 0.03591735392406042), (127, 0.02727007983046232), (128, 0.036709744193115255), (129, 0.0), (130, 0.0), (131, 0.02800120983640709), (132, 0.0), (133, 0.04145193925640302), (134, 0.032922971287428805), (135, 0.024866673427555205), (136, 0.0), (137, 0.0), (138, 0.0), (139, 0.0), (140, 0.03633550376907156), (141, 0.0), (142, 0.02628163528499436), (143, 0.0), (144, 0.029225494717752976), (145, 0.03294894361276079), (146, 0.0), (147, 0.028611387879069753), (148, 0.0), (149, 0.0), (150, 0.0432315518001713), (151, 0.0), (152, 0.028611387879069753), (153, 0.0), (154, 0.035984956369919), (155, 0.0), (156, 0.03785807223666261), (157, 0.0), (158, 0.0), (159, 0.026381203227276398), (160, 0.0), (161, 0.0), (162, 0.02629484168640936), (163, 0.0), (164, 0.03479533402471859), (165, 0.03479533402471859), (166, 0.0), (167, 0.03479533402471859), (168, 0.0), (169, 0.0), (170, 0.0), (171, 0.0330561434637308), (172, 0.0), (173, 0.02129464801714864), (174, 0.04583532387949245), (175, 0.024866673427555205), (176, 0.0), (177, 0.0), (178, 0.0), (179, 0.02800120983640709), (180, 0.22626389929417284), (181, 0.0), (182, 0.0), (183, 0.0), (184, 0.0), (185, 0.0), (186, 0.4762967328031056), (187, 0.0), (188, 0.1960954778637642), (189, 0.02612819973729781), (190, 0.028611387879069753), (191, 0.03479533402471859), (192, 0.037155422452587156), (193, 0.0), (194, 0.028611387879069753), (195, 0.03789399522086075), (196, 0.0), (197, 0.0327280667516907), (198, 0.02988092169021694), (199, 0.0), (200, 0.03123329286021985), (201, 0.04304991448161538), (202, 0.0), (203, 0.025686603164657443), (204, 0.0), (205, 0.0), (206, 0.0), (207, 0.030700952562393476), (208, 0.0), (209, 0.0), (210, 0.027605424379387372), (211, 0.02554480992837129), (212, 0.0), (213, 0.0), (214, 0.0), (215, 0.27165616069755094), (216, 0.029022875051388043), (217, 0.0), (218, 0.0), (219, 0.0317230569413436), (220, 0.0317230569413436), (221, 0.04325057082076474), (222, 0.48305273768832047), (223, 0.040097847653922006), (224, 0.039378498928983666), (225, 0.042826369602093455), (226, 0.03591735392406042), (227, 0.033796209678039695), (228, 0.0), (229, 0.0), (230, 0.0), (231, 0.02651251555218341), (232, 0.0), (233, 0.04319932509152142), (234, 0.0), (235, 0.04097715967503352), (236, 0.033054165536776654), (237, 0.0), (238, 0.0), (239, 0.0), (240, 0.0), (241, 0.03159242726357036), (242, 0.0), (243, 0.03782805726631081), (244, 0.0), (245, 0.04237601385523519), (246, 0.0), (247, 0.0), (248, 0.028611387879069753), (249, 0.039378498928983666), (250, 0.0), (251, 0.0), (252, 0.03321459859534377), (253, 0.0), (254, 0.0), (255, 0.02387926471218044), (256, 0.0), (257, 0.037368393402242815), (258, 0.0), (259, 0.0), (260, 0.0), (261, 0.030261053128481343), (262, 0.0), (263, 0.0), (264, 0.032459956482439795), (265, 0.037344856804559734), (266, 0.030776639197599015), (267, 0.0), (268, 0.03284771901446449), (269, 0.03633550376907156), (270, 0.0), (271, 0.042826369602093455), (272, 0.044910144397444104), (273, 0.0), (274, 0.03591735392406042), (275, 0.0), (276, 0.0), (277, 0.0), (278, 0.0), (279, 0.03785807223666261), (280, 0.03789399522086075), (281, 0.0), (282, 0.0), (283, 0.034886498638541874), (284, 0.03935657979358477), (285, 0.028879323851487174), (286, 0.029658359296555616), (287, 0.0), (288, 0.0), (289, 0.0), (290, 0.0), (291, 0.0), (292, 0.0), (293, 0.03941565342546716), (294, 0.0), (295, 0.0), (296, 0.02900711088783572), (297, 0.040680725202600757), (298, 0.0), (299, 0.0), (300, 0.2622709320421787), (301, 0.037368393402242815), (302, 0.02999135921490082), (303, 0.04186915989681643), (304, 0.02725534967515193), (305, 0.0), (306, 0.0), (307, 0.01991296051209883), (308, 0.0), (309, 0.03601887800544451), (310, 0.03364334330388471), (311, 0.0), (312, 0.0), (313, 0.030227441692834558), (314, 0.0), (315, 0.0), (316, 0.0), (317, 0.0), (318, 0.0), (319, 0.0321510333984839), (320, 0.029525212954101255), (321, 0.0), (322, 0.0), (323, 0.039796604300130954), (324, 0.0), (325, 0.030681061175969394), (326, 0.0), (327, 0.03591098598475585), (328, 0.03785807223666261)]\n"
          ]
        }
      ]
    },
    {
      "cell_type": "code",
      "source": [
        "len(similarity_score)"
      ],
      "metadata": {
        "colab": {
          "base_uri": "https://localhost:8080/"
        },
        "id": "yw53c6fLQVoW",
        "outputId": "24b6a19b-9210-499b-f78a-2421677e2d57"
      },
      "execution_count": 52,
      "outputs": [
        {
          "output_type": "execute_result",
          "data": {
            "text/plain": [
              "329"
            ]
          },
          "metadata": {},
          "execution_count": 52
        }
      ]
    },
    {
      "cell_type": "code",
      "source": [
        "# sorting the movies based on their similarity score\n",
        "\n",
        "sorted_similar_movies = sorted(similarity_score, key = lambda x:x[1], reverse = True)\n",
        "print(sorted_similar_movies)"
      ],
      "metadata": {
        "colab": {
          "base_uri": "https://localhost:8080/"
        },
        "id": "d9dqpleBQZme",
        "outputId": "5c151ecf-2fe3-4ccf-c6b2-494d789bfd8c"
      },
      "execution_count": 53,
      "outputs": [
        {
          "output_type": "stream",
          "name": "stdout",
          "text": [
            "[(8, 1.0000000000000002), (98, 0.5036968781522615), (222, 0.48305273768832047), (186, 0.4762967328031056), (215, 0.27165616069755094), (300, 0.2622709320421787), (121, 0.24716623686661962), (6, 0.2386528572350959), (180, 0.22626389929417284), (71, 0.213971051894083), (188, 0.1960954778637642), (57, 0.18338447472142924), (83, 0.04588843172028626), (174, 0.04583532387949245), (272, 0.044910144397444104), (25, 0.04405129013939925), (1, 0.043622849313710174), (221, 0.04325057082076474), (150, 0.0432315518001713), (233, 0.04319932509152142), (201, 0.04304991448161538), (10, 0.042826369602093455), (225, 0.042826369602093455), (271, 0.042826369602093455), (7, 0.04237601385523519), (245, 0.04237601385523519), (96, 0.04205484833613463), (35, 0.04187318000704583), (110, 0.04187318000704583), (303, 0.04186915989681643), (133, 0.04145193925640302), (63, 0.04097715967503352), (235, 0.04097715967503352), (297, 0.040680725202600757), (12, 0.040097847653922006), (47, 0.040097847653922006), (223, 0.040097847653922006), (45, 0.03985762254745555), (323, 0.039796604300130954), (293, 0.03941565342546716), (224, 0.039378498928983666), (249, 0.039378498928983666), (24, 0.03935657979358477), (284, 0.03935657979358477), (52, 0.039071551892230744), (22, 0.038834998021477385), (195, 0.03789399522086075), (280, 0.03789399522086075), (62, 0.03785807223666261), (156, 0.03785807223666261), (279, 0.03785807223666261), (328, 0.03785807223666261), (243, 0.03782805726631081), (257, 0.037368393402242815), (301, 0.037368393402242815), (265, 0.037344856804559734), (192, 0.037155422452587156), (21, 0.03703910764573882), (100, 0.036709744193115255), (128, 0.036709744193115255), (115, 0.03647811585775001), (97, 0.03633550376907156), (140, 0.03633550376907156), (269, 0.03633550376907156), (309, 0.03601887800544451), (154, 0.035984956369919), (15, 0.03591735392406042), (123, 0.03591735392406042), (126, 0.03591735392406042), (226, 0.03591735392406042), (274, 0.03591735392406042), (327, 0.03591098598475585), (0, 0.0357811938572575), (26, 0.03574971472114137), (51, 0.03554322900410081), (283, 0.034886498638541874), (122, 0.03479533402471859), (164, 0.03479533402471859), (165, 0.03479533402471859), (167, 0.03479533402471859), (191, 0.03479533402471859), (3, 0.03440800033010293), (227, 0.033796209678039695), (95, 0.03364334330388471), (310, 0.03364334330388471), (49, 0.03346594006504057), (92, 0.03321459859534377), (252, 0.03321459859534377), (171, 0.0330561434637308), (236, 0.033054165536776654), (145, 0.03294894361276079), (134, 0.032922971287428805), (268, 0.03284771901446449), (197, 0.0327280667516907), (264, 0.032459956482439795), (61, 0.03238589755305575), (111, 0.03223348735073048), (319, 0.0321510333984839), (105, 0.03175014589368045), (67, 0.03173632426320138), (219, 0.0317230569413436), (220, 0.0317230569413436), (241, 0.03159242726357036), (103, 0.03144201037339199), (200, 0.03123329286021985), (266, 0.030776639197599015), (207, 0.030700952562393476), (325, 0.030681061175969394), (93, 0.030344036276873567), (261, 0.030261053128481343), (313, 0.030227441692834558), (302, 0.02999135921490082), (84, 0.02988092169021694), (198, 0.02988092169021694), (286, 0.029658359296555616), (86, 0.029592543161805995), (102, 0.029525212954101255), (320, 0.029525212954101255), (144, 0.029225494717752976), (27, 0.029137231990160925), (82, 0.029072568176216698), (216, 0.029022875051388043), (296, 0.02900711088783572), (285, 0.028879323851487174), (66, 0.02883159536105379), (79, 0.028611387879069753), (101, 0.028611387879069753), (114, 0.028611387879069753), (147, 0.028611387879069753), (152, 0.028611387879069753), (190, 0.028611387879069753), (194, 0.028611387879069753), (248, 0.028611387879069753), (131, 0.02800120983640709), (179, 0.02800120983640709), (210, 0.027605424379387372), (127, 0.02727007983046232), (304, 0.02725534967515193), (231, 0.02651251555218341), (159, 0.026381203227276398), (162, 0.02629484168640936), (142, 0.02628163528499436), (189, 0.02612819973729781), (203, 0.025686603164657443), (37, 0.02568660316465744), (211, 0.02554480992837129), (135, 0.024866673427555205), (175, 0.024866673427555205), (255, 0.02387926471218044), (173, 0.02129464801714864), (307, 0.01991296051209883), (2, 0.0), (4, 0.0), (5, 0.0), (9, 0.0), (11, 0.0), (13, 0.0), (14, 0.0), (16, 0.0), (17, 0.0), (18, 0.0), (19, 0.0), (20, 0.0), (23, 0.0), (28, 0.0), (29, 0.0), (30, 0.0), (31, 0.0), (32, 0.0), (33, 0.0), (34, 0.0), (36, 0.0), (38, 0.0), (39, 0.0), (40, 0.0), (41, 0.0), (42, 0.0), (43, 0.0), (44, 0.0), (46, 0.0), (48, 0.0), (50, 0.0), (53, 0.0), (54, 0.0), (55, 0.0), (56, 0.0), (58, 0.0), (59, 0.0), (60, 0.0), (64, 0.0), (65, 0.0), (68, 0.0), (69, 0.0), (70, 0.0), (72, 0.0), (73, 0.0), (74, 0.0), (75, 0.0), (76, 0.0), (77, 0.0), (78, 0.0), (80, 0.0), (81, 0.0), (85, 0.0), (87, 0.0), (88, 0.0), (89, 0.0), (90, 0.0), (91, 0.0), (94, 0.0), (99, 0.0), (104, 0.0), (106, 0.0), (107, 0.0), (108, 0.0), (109, 0.0), (112, 0.0), (113, 0.0), (116, 0.0), (117, 0.0), (118, 0.0), (119, 0.0), (120, 0.0), (124, 0.0), (125, 0.0), (129, 0.0), (130, 0.0), (132, 0.0), (136, 0.0), (137, 0.0), (138, 0.0), (139, 0.0), (141, 0.0), (143, 0.0), (146, 0.0), (148, 0.0), (149, 0.0), (151, 0.0), (153, 0.0), (155, 0.0), (157, 0.0), (158, 0.0), (160, 0.0), (161, 0.0), (163, 0.0), (166, 0.0), (168, 0.0), (169, 0.0), (170, 0.0), (172, 0.0), (176, 0.0), (177, 0.0), (178, 0.0), (181, 0.0), (182, 0.0), (183, 0.0), (184, 0.0), (185, 0.0), (187, 0.0), (193, 0.0), (196, 0.0), (199, 0.0), (202, 0.0), (204, 0.0), (205, 0.0), (206, 0.0), (208, 0.0), (209, 0.0), (212, 0.0), (213, 0.0), (214, 0.0), (217, 0.0), (218, 0.0), (228, 0.0), (229, 0.0), (230, 0.0), (232, 0.0), (234, 0.0), (237, 0.0), (238, 0.0), (239, 0.0), (240, 0.0), (242, 0.0), (244, 0.0), (246, 0.0), (247, 0.0), (250, 0.0), (251, 0.0), (253, 0.0), (254, 0.0), (256, 0.0), (258, 0.0), (259, 0.0), (260, 0.0), (262, 0.0), (263, 0.0), (267, 0.0), (270, 0.0), (273, 0.0), (275, 0.0), (276, 0.0), (277, 0.0), (278, 0.0), (281, 0.0), (282, 0.0), (287, 0.0), (288, 0.0), (289, 0.0), (290, 0.0), (291, 0.0), (292, 0.0), (294, 0.0), (295, 0.0), (298, 0.0), (299, 0.0), (305, 0.0), (306, 0.0), (308, 0.0), (311, 0.0), (312, 0.0), (314, 0.0), (315, 0.0), (316, 0.0), (317, 0.0), (318, 0.0), (321, 0.0), (322, 0.0), (324, 0.0), (326, 0.0)]\n"
          ]
        }
      ]
    },
    {
      "cell_type": "code",
      "source": [
        "# print the name of similar movies based on the index\n",
        "\n",
        "print('Movies suggested for you : \\n')\n",
        "\n",
        "i = 1\n",
        "\n",
        "for movie in sorted_similar_movies:\n",
        "  index = movie[0]\n",
        "  MovieName_from_index = movies_data[movies_data.index==index]['MovieName'].values[0]\n",
        "  if (i<20):\n",
        "    print(i, '.',MovieName_from_index)\n",
        "    i+=1"
      ],
      "metadata": {
        "colab": {
          "base_uri": "https://localhost:8080/"
        },
        "id": "dnlXqbMFQfgE",
        "outputId": "64219366-d987-42ff-ca54-6a8aefb3dd4e"
      },
      "execution_count": 56,
      "outputs": [
        {
          "output_type": "stream",
          "name": "stdout",
          "text": [
            "Movies suggested for you : \n",
            "\n",
            "1 . Payanam\n",
            "2 . Oopiri\n",
            "3 . Kaatrin Mozhi\n",
            "4 . Brindavanam\n",
            "5 . Maari 2\n",
            "6 . Ayogya\n",
            "7 . Velaikkaran\n",
            "8 . Vaanam\n",
            "9 . Sathriyan\n",
            "10 . Thani Oruvan\n",
            "11 . Sangili Bungili Kadhava Thorae\n",
            "12 . Vaayai Moodi Pesavum\n",
            "13 . I\n",
            "14 . Vanamagan\n",
            "15 . Kaappaan\n",
            "16 . Pandiya Naadu\n",
            "17 . 7 Aum Arivu\n",
            "18 . 2\n",
            "19 . Thupparivaalan\n"
          ]
        }
      ]
    },
    {
      "cell_type": "markdown",
      "source": [
        "Movie recommendation system"
      ],
      "metadata": {
        "id": "bOPNG_bORCBo"
      }
    },
    {
      "cell_type": "code",
      "source": [
        "movie_name = input(' Enter your favourite movie name : ')\n",
        "\n",
        "list_of_all_MovieName = movies_data['MovieName'].tolist()\n",
        "\n",
        "find_close_match = difflib.get_close_matches(movie_name, list_of_all_MovieName)\n",
        "\n",
        "close_match = find_close_match[0]\n",
        "\n",
        "index_of_the_movie = movies_data[movies_data.MovieName == close_match]['Index'].values[0]\n",
        "\n",
        "similarity_score = list(enumerate(similarity[index_of_the_movie]))\n",
        "\n",
        "sorted_similar_movies = sorted(similarity_score, key = lambda x:x[1], reverse = True)\n",
        "\n",
        "print('Movies suggested for you : \\n')\n",
        "\n",
        "i = 1\n",
        "\n",
        "for movie in sorted_similar_movies:\n",
        "  index = movie[0]\n",
        "  MovieName_from_index = movies_data[movies_data.index==index]['MovieName'].values[0]\n",
        "  if (i<30):\n",
        "    print(i, '.',MovieName_from_index)\n",
        "    i+=1"
      ],
      "metadata": {
        "colab": {
          "base_uri": "https://localhost:8080/"
        },
        "id": "NRxzGIrBQ3uL",
        "outputId": "047cecf1-8a32-42fd-c929-18038351028a"
      },
      "execution_count": 64,
      "outputs": [
        {
          "output_type": "stream",
          "name": "stdout",
          "text": [
            " Enter your favourite movie name : Mouna Guru\n",
            "Movies suggested for you : \n",
            "\n",
            "1 . Mouna Guru\n",
            "2 . Magamuni\n",
            "3 . Brindavanam\n",
            "4 . K-13\n",
            "5 . Uriyadi\n",
            "6 . Uriyadi 2\n",
            "7 . Demonte Colony\n",
            "8 . 24\n",
            "9 . Sindhubaadh\n",
            "10 . Veeram\n",
            "11 . Vivegam\n",
            "12 . Nerkonda Paarvai\n",
            "13 . Viswasam\n",
            "14 . Theri\n",
            "15 . Mersal\n",
            "16 . Bigil\n",
            "17 . Gangs Of Madras\n",
            "18 . Maayavan\n",
            "19 . Arrambam\n",
            "20 . Mankatha\n",
            "21 . Raatchasan\n",
            "22 . Goli Soda\n",
            "23 . Watchman\n",
            "24 . Pannaiyarum Padminiyum\n",
            "25 . Yennai Arindhaal\n",
            "26 . Raja Rani\n",
            "27 . 96\n",
            "28 . 100% Kadhal\n",
            "29 . Mundaasupatti\n"
          ]
        }
      ]
    },
    {
      "cell_type": "code",
      "source": [],
      "metadata": {
        "id": "OieXdnMiRgsZ"
      },
      "execution_count": null,
      "outputs": []
    }
  ]
}